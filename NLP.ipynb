{
 "cells": [
  {
   "cell_type": "markdown",
   "metadata": {},
   "source": [
    "# WEEK 1\n"
   ]
  },
  {
   "cell_type": "code",
   "execution_count": 11,
   "metadata": {},
   "outputs": [],
   "source": [
    "import tensorflow as tf\n",
    "from tensorflow import keras\n",
    "from tensorflow.keras.preprocessing.text import Tokenizer"
   ]
  },
  {
   "cell_type": "code",
   "execution_count": 12,
   "metadata": {},
   "outputs": [
    {
     "name": "stdout",
     "output_type": "stream",
     "text": [
      "{'i': 1, 'love': 2, 'my': 3, 'cat': 4, 'dog': 5}\n"
     ]
    }
   ],
   "source": [
    "sentences=['I love my cat','i love my dog']\n",
    "token=Tokenizer(num_words=100)#The Tokenizer will take 100 most common words inorder to assign no to them \n",
    "token.fit_on_texts(sentences)#this 'fit_on_texts' will assign no to them\n",
    "word_index=token.word_index #after assiging them values this method will make a dictionary like  \n",
    "                            # this '{'i': 1, 'love': 2, 'my': 3, 'cat': 4, 'dog': 5}'\n",
    "\n",
    "    \n",
    "    \n",
    "print(word_index)\n",
    "#Tokenizer will strips punctuation ,like if we define I or i it will assign same value to it, "
   ]
  },
  {
   "cell_type": "code",
   "execution_count": 4,
   "metadata": {},
   "outputs": [
    {
     "name": "stdout",
     "output_type": "stream",
     "text": [
      "{'love': 1, 'my': 2, 'i': 3, 'cat': 4, 'dog': 5, 'you': 6}\n"
     ]
    }
   ],
   "source": [
    "sentences=['I love my cat','i love my dog','You love my cat!']\n",
    "#Tokenizer will strips punctuation out ,if we have 'cat!' it will treat it as cat\n",
    "token=Tokenizer(num_words=100)\n",
    "token.fit_on_texts(sentences)\n",
    "word=token.word_index\n",
    "print(word)"
   ]
  },
  {
   "cell_type": "code",
   "execution_count": 12,
   "metadata": {},
   "outputs": [
    {
     "name": "stdout",
     "output_type": "stream",
     "text": [
      "{'love': 1, 'my': 2, 'i': 3, 'cat': 4, 'dog': 5, 'you': 6}\n",
      "[[3, 1, 2, 4], [3, 1, 2, 5], [6, 1, 2, 4]]\n"
     ]
    }
   ],
   "source": [
    "sentences=['I love my cat','i love my dog','You love my cat!']\n",
    "#Tokenizer will strips punctuation out ,if we have 'cat!' it will treat it as cat\n",
    "token=Tokenizer(num_words=100)\n",
    "token.fit_on_texts(sentences)\n",
    "\n",
    "word=token.word_index\n",
    "\n",
    "texts=token.texts_to_sequences(sentences)#this will make a sequence of our list of sentences like this '\n",
    "                                         #[[3, 1, 2, 4], [3, 1, 2, 5], [6, 1, 2, 4]]  [3,1,2,4]=I love my cat'\n",
    "print(word)\n",
    "print(texts)"
   ]
  },
  {
   "cell_type": "code",
   "execution_count": 5,
   "metadata": {},
   "outputs": [
    {
     "name": "stdout",
     "output_type": "stream",
     "text": [
      "[[3, 1, 2, 4], [3, 1, 2, 5], [6, 1]]\n",
      "{'love': 1, 'my': 2, 'i': 3, 'cat': 4, 'dog': 5, 'you': 6}\n"
     ]
    }
   ],
   "source": [
    "sentences=['I really love my cat','i love my dog','You love him']\n",
    "texts=token.texts_to_sequences(sentences)\n",
    "print(texts)\n",
    "word=token.word_index\n",
    "print(word)\n",
    "\n",
    "\n",
    "#If we look it up we saw that we have '[7,1]=You Love' but we want 'You Love him'.\n",
    "#We learn from this that we need to have a large data to build up a good vocabulary\n"
   ]
  },
  {
   "cell_type": "code",
   "execution_count": 6,
   "metadata": {},
   "outputs": [
    {
     "name": "stdout",
     "output_type": "stream",
     "text": [
      "['I love my cat', 'i love my dog', 'You love my cat!']\n",
      "{'<OOV>': 1, 'love': 2, 'my': 3, 'i': 4, 'cat': 5, 'dog': 6, 'you': 7}\n",
      "[[4, 2, 3, 5], [4, 2, 3, 6], [7, 2, 3, 5]]\n",
      "['I love my LORD', 'He accept my love ']\n",
      "[[4, 2, 3, 1], [1, 1, 3, 2]]\n"
     ]
    }
   ],
   "source": [
    "\n",
    "\n",
    "\n",
    "#TRAINING DATA\n",
    "sentences=['I love my cat','i love my dog','You love my cat!']\n",
    "token=Tokenizer(num_words=100 ,oov_token='<OOV>')#OOV=Out Of Vocabulary\n",
    "#we add one thing to the tokenizer which is 'oov_token='<OOV> it give <OOV> to any value to the word which is out of vocabulary\n",
    "token.fit_on_texts(sentences)\n",
    "word=token.word_index\n",
    "print(sentences)\n",
    "print(word)\n",
    "texts=token.texts_to_sequences(sentences)\n",
    "print (texts)\n",
    "\n",
    "#TESTING DATA\n",
    "\n",
    "sent=['I love my LORD','He accept my love ']\n",
    "test_text=token.texts_to_sequences(sent)\n",
    "print(sent)\n",
    "print(test_text)\n"
   ]
  },
  {
   "cell_type": "markdown",
   "metadata": {},
   "source": [
    "# PADDING\n"
   ]
  },
  {
   "cell_type": "code",
   "execution_count": 32,
   "metadata": {},
   "outputs": [],
   "source": [
    "#Padiing help us to unifron our data just like we did in building neural network when we make all our pics the same size"
   ]
  },
  {
   "cell_type": "code",
   "execution_count": 31,
   "metadata": {},
   "outputs": [],
   "source": [
    "from tensorflow.keras.preprocessing.text import Tokenizer\n",
    "from tensorflow.keras.preprocessing.sequence import pad_sequences"
   ]
  },
  {
   "cell_type": "code",
   "execution_count": 36,
   "metadata": {},
   "outputs": [
    {
     "name": "stdout",
     "output_type": "stream",
     "text": [
      "['I love my cat', 'i love my dog', 'You love my cat!', 'Your are getting paid for this job']\n",
      "[[4, 2, 3, 5], [4, 2, 3, 6], [7, 2, 3, 5], [8, 9, 10, 11, 12, 13, 14]]\n",
      "+++++++++++\n",
      "[[ 0  0  0  4  2  3  5]\n",
      " [ 0  0  0  4  2  3  6]\n",
      " [ 0  0  0  7  2  3  5]\n",
      " [ 8  9 10 11 12 13 14]]\n"
     ]
    }
   ],
   "source": [
    "sentences=['I love my cat','i love my dog','You love my cat!','Your are getting paid for this job']\n",
    "token=Tokenizer(num_words=100 ,oov_token='<OOV>')\n",
    "token.fit_on_texts(sentences)\n",
    "word=token.word_index\n",
    "print(sentences)\n",
    "texts=token.texts_to_sequences(sentences)\n",
    "pad_seq=pad_sequences(texts)\n",
    "print (texts)\n",
    "\n",
    "print(\"+++++++++++\")\n",
    "print(pad_seq)\n"
   ]
  },
  {
   "cell_type": "code",
   "execution_count": 43,
   "metadata": {},
   "outputs": [
    {
     "name": "stdout",
     "output_type": "stream",
     "text": [
      "[[ 4  2  3  5  0  0  0]\n",
      " [ 4  2  3  6  0  0  0]\n",
      " [ 7  2  3  5  0  0  0]\n",
      " [ 8  9 10 11 12 13 14]]\n",
      "++++++++\n",
      "[[ 2  3  5]\n",
      " [ 2  3  6]\n",
      " [ 2  3  5]\n",
      " [12 13 14]]\n",
      "++++++++\n",
      "[[ 4  2  3]\n",
      " [ 4  2  3]\n",
      " [ 7  2  3]\n",
      " [ 8  9 10]]\n"
     ]
    }
   ],
   "source": [
    "#as we saw data has been padded , if we want \"0\" after we just need to do\n",
    "pad_seq=pad_sequences(texts,padding='post')\n",
    "#we can also specify the length of a sentences like this\n",
    "pa_seq=pad_sequences(texts,padding='post',maxlen=3)\n",
    "print(pad_seq)\n",
    "print(\"++++++++\")\n",
    "print(pa_seq)\n",
    "#here you can see we lose info , if we want it to remove info at the end we just do\n",
    "pa=pad_sequences(texts,padding='post',maxlen=3,truncating='post')\n",
    "print(\"++++++++\")\n",
    "print(pa)\n"
   ]
  },
  {
   "cell_type": "markdown",
   "metadata": {},
   "source": [
    "# WEEK 2\n"
   ]
  },
  {
   "cell_type": "code",
   "execution_count": 7,
   "metadata": {},
   "outputs": [
    {
     "name": "stdout",
     "output_type": "stream",
     "text": [
      "2.0.0\n"
     ]
    }
   ],
   "source": [
    "import tensorflow as tf\n",
    "print(tf.__version__)"
   ]
  },
  {
   "cell_type": "code",
   "execution_count": 3,
   "metadata": {},
   "outputs": [],
   "source": [
    "tf.enable_eager_execution()#for tensforflow version 1.x we need this line of code to for execution in version 2.x we dont need any thing"
   ]
  },
  {
   "cell_type": "code",
   "execution_count": 9,
   "metadata": {},
   "outputs": [],
   "source": [
    "import tensorflow_datasets as tfds"
   ]
  },
  {
   "cell_type": "code",
   "execution_count": 10,
   "metadata": {},
   "outputs": [
    {
     "ename": "AttributeError",
     "evalue": "module 'tensorflow_datasets' has no attribute 'load'",
     "output_type": "error",
     "traceback": [
      "\u001b[1;31m---------------------------------------------------------------------------\u001b[0m",
      "\u001b[1;31mAttributeError\u001b[0m                            Traceback (most recent call last)",
      "\u001b[1;32m<ipython-input-10-2d84baf13035>\u001b[0m in \u001b[0;36m<module>\u001b[1;34m\u001b[0m\n\u001b[1;32m----> 1\u001b[1;33m \u001b[0mimdb\u001b[0m\u001b[1;33m,\u001b[0m \u001b[0minfo\u001b[0m \u001b[1;33m=\u001b[0m \u001b[0mtfds\u001b[0m\u001b[1;33m.\u001b[0m\u001b[0mload\u001b[0m\u001b[1;33m(\u001b[0m\u001b[1;34m\"imdb_reviews\"\u001b[0m\u001b[1;33m,\u001b[0m \u001b[0mwith_info\u001b[0m\u001b[1;33m=\u001b[0m\u001b[1;32mTrue\u001b[0m\u001b[1;33m,\u001b[0m \u001b[0mas_supervised\u001b[0m\u001b[1;33m=\u001b[0m\u001b[1;32mTrue\u001b[0m\u001b[1;33m)\u001b[0m\u001b[1;33m\u001b[0m\u001b[1;33m\u001b[0m\u001b[0m\n\u001b[0m",
      "\u001b[1;31mAttributeError\u001b[0m: module 'tensorflow_datasets' has no attribute 'load'"
     ]
    }
   ],
   "source": [
    "imdb, info = tfds.load(\"imdb_reviews\", with_info=True, as_supervised=True)"
   ]
  },
  {
   "cell_type": "code",
   "execution_count": 5,
   "metadata": {},
   "outputs": [
    {
     "data": {
      "text/plain": [
       "['my ', ' name ', ' is ', ' tauqeer']"
      ]
     },
     "execution_count": 5,
     "metadata": {},
     "output_type": "execute_result"
    }
   ],
   "source": [
    "data=\"My . name . is . Tauqeer\"\n",
    "a=data.lower().split(\".\")\n",
    "a"
   ]
  },
  {
   "cell_type": "code",
   "execution_count": null,
   "metadata": {},
   "outputs": [],
   "source": []
  }
 ],
 "metadata": {
  "kernelspec": {
   "display_name": "Python 3",
   "language": "python",
   "name": "python3"
  },
  "language_info": {
   "codemirror_mode": {
    "name": "ipython",
    "version": 3
   },
   "file_extension": ".py",
   "mimetype": "text/x-python",
   "name": "python",
   "nbconvert_exporter": "python",
   "pygments_lexer": "ipython3",
   "version": "3.7.4"
  }
 },
 "nbformat": 4,
 "nbformat_minor": 2
}
