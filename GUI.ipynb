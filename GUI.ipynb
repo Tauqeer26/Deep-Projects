{
 "cells": [
  {
   "cell_type": "code",
   "execution_count": 87,
   "metadata": {},
   "outputs": [],
   "source": [
    "import tkinter as tk\n",
    "\n",
    "window=tkinter.Tk()\n",
    "window.geometry(\"650x650\")\n",
    "window.title(\"Tkinter \")\n",
    "\n",
    "lab=Label(window,text=\"Click to Open a Camera\",font=(\"Arial\",25)).pack()\n",
    "Top=Frame(window).pack(expand=True,fill='both')\n",
    "Bot=Frame(window)\n",
    "Bot.pack(expand=True,fill=\"both\")\n",
    "\n",
    "Mid=Frame(window)\n",
    "Mid.pack(expand=True,fill=\"both\")\n",
    "#icon=tk.PhotoImage(file='C:/Users/KHAN/Desktop/light.png')\n",
    "#label=Label(window,image=icon)\n",
    "#label.pack()\n",
    "Lab1=Button(Bot,text='Camera',width=25,height=5).pack()\n",
    "#Lab1=Entry(window,width=100,font=(\"Arial\",25)).pack(ipady=10)\n",
    "\n",
    "\n",
    "\n",
    "\n",
    "window.mainloop() "
   ]
  },
  {
   "cell_type": "code",
   "execution_count": 1,
   "metadata": {},
   "outputs": [],
   "source": []
  },
  {
   "cell_type": "code",
   "execution_count": null,
   "metadata": {},
   "outputs": [],
   "source": []
  }
 ],
 "metadata": {
  "kernelspec": {
   "display_name": "Python 3",
   "language": "python",
   "name": "python3"
  },
  "language_info": {
   "codemirror_mode": {
    "name": "ipython",
    "version": 3
   },
   "file_extension": ".py",
   "mimetype": "text/x-python",
   "name": "python",
   "nbconvert_exporter": "python",
   "pygments_lexer": "ipython3",
   "version": "3.7.4"
  }
 },
 "nbformat": 4,
 "nbformat_minor": 2
}
