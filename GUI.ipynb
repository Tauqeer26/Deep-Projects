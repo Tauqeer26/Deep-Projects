{
 "cells": [
  {
   "cell_type": "code",
   "execution_count": 21,
   "metadata": {},
   "outputs": [
    {
     "name": "stdout",
     "output_type": "stream",
     "text": [
      "WARNING:tensorflow:From f:\\Users\\KHAN\\Anaconda3\\lib\\site-packages\\tensorflow\\python\\ops\\resource_variable_ops.py:435: colocate_with (from tensorflow.python.framework.ops) is deprecated and will be removed in a future version.\n",
      "Instructions for updating:\n",
      "Colocations handled automatically by placer.\n",
      "WARNING:tensorflow:From f:\\Users\\KHAN\\Anaconda3\\lib\\site-packages\\tensorflow\\python\\ops\\math_ops.py:3066: to_int32 (from tensorflow.python.ops.math_ops) is deprecated and will be removed in a future version.\n",
      "Instructions for updating:\n",
      "Use tf.cast instead.\n"
     ]
    }
   ],
   "source": [
    "import tkinter as tk\n",
    "import numpy as np\n",
    "import cv2\n",
    "import tensorflow as tf\n",
    "import keras_preprocessing\n",
    "from keras_preprocessing import image\n",
    "from keras_preprocessing.image import ImageDataGenerator\n",
    "model_trained=tf.keras.models.load_model('rps.h5')\n"
   ]
  },
  {
   "cell_type": "code",
   "execution_count": 55,
   "metadata": {
    "scrolled": true
   },
   "outputs": [
    {
     "name": "stdout",
     "output_type": "stream",
     "text": [
      "[[1. 0. 0.]]\n",
      "Predicted: Paper\n"
     ]
    }
   ],
   "source": [
    "def open_camera():\n",
    "    cap=cv2.VideoCapture(0)\n",
    "    while True:\n",
    "        ret,frame=cap.read()\n",
    "        cv2.imshow('frame',frame)\n",
    "        if cv2.waitKey(1)& 0xFF == ord('q'):\n",
    "            break\n",
    "        cv2.imwrite('F:/testing/test/yes.png',frame)\n",
    "        \n",
    "    cap.release()\n",
    "    cv2.destroyAllWindows()\n",
    "    filepath=\"F:/testing/test/yes.png\"\n",
    "    \n",
    "    Rev_class={0:\"Paper\",1:\"rock\",2:\"Scissors\",3:'None'}\n",
    "\n",
    "    def mapper(val):\n",
    "        return Rev_class[val]\n",
    "\n",
    "    img=cv2.imread(filepath)\n",
    "    img=cv2.cvtColor(img,cv2.COLOR_BGR2RGB)\n",
    "    img=cv2.resize(img,(150,150))\n",
    "\n",
    "    pred= model_trained.predict(np.array([img]))\n",
    "    move_code=np.argmax(pred[0])#this func \"argmax\" will take the highest value from the list and print it \n",
    "    move_name=mapper(move_code)\n",
    "    print(pred)\n",
    "    print(\"Predicted: {}\".format(move_name))\n",
    "    if move_name == \"rock\":\n",
    "        return print_it()\n",
    "    if move_name == \"Paper\":\n",
    "        return print_to()\n",
    "    if move_name == \"Scissors\":\n",
    "        return print_t()\n",
    "        \n",
    "        \n",
    "\n",
    "window=tk.Tk()\n",
    "window.geometry(\"650x650\")\n",
    "window.title(\"GUI\")\n",
    "\n",
    "\n",
    "def print_it():\n",
    "    win=tk.Tk()\n",
    "    win.geometry(\"400x400\")\n",
    "    win.title(\"good\")\n",
    "    show=tk.Label(win,text=\"ROCK\",font=(\"Arial\",25)).pack()\n",
    "def print_to():\n",
    "    win=tk.Tk()\n",
    "    win.geometry(\"400x400\")\n",
    "    win.title(\"good\")\n",
    "    show=tk.Label(win,text=\"Paper\",font=(\"Arial\",25)).pack()\n",
    "def print_t():\n",
    "    win=tk.Tk()\n",
    "    win.geometry(\"400x400\")\n",
    "    win.title(\"good\")\n",
    "    show=tk.Label(win,text=\"Scissors\",font=(\"Arial\",25)).pack()\n",
    "    \n",
    "    \n",
    "\n",
    "lab=tk.Label(window,text=\"Click to Open a Camera\",font=(\"Arial\",25)).pack()\n",
    "Top=tk.Frame(window).pack(expand=True,fill='both')\n",
    "Bot=tk.Frame(window)\n",
    "Bot.pack(expand=True,fill=\"both\")\n",
    "\n",
    "Mid=tk.Frame(window)\n",
    "Mid.pack(expand=True,fill=\"both\")\n",
    "#icon=tk.PhotoImage(file='C:/Users/KHAN/Desktop/light.png')\n",
    "#label=Label(window,image=icon)\n",
    "#label.pack()\n",
    "Lab1=tk.Button(Bot,text='Camera',width=25,height=5,command=open_camera).pack()\n",
    "#Lab1=Entry(window,width=100,font=(\"Arial\",25)).pack(ipady=10)\n",
    "\n",
    "\n",
    "\n",
    "\n",
    "window.mainloop() "
   ]
  },
  {
   "cell_type": "code",
   "execution_count": null,
   "metadata": {},
   "outputs": [],
   "source": []
  }
 ],
 "metadata": {
  "kernelspec": {
   "display_name": "Python 3",
   "language": "python",
   "name": "python3"
  },
  "language_info": {
   "codemirror_mode": {
    "name": "ipython",
    "version": 3
   },
   "file_extension": ".py",
   "mimetype": "text/x-python",
   "name": "python",
   "nbconvert_exporter": "python",
   "pygments_lexer": "ipython3",
   "version": "3.7.4"
  }
 },
 "nbformat": 4,
 "nbformat_minor": 2
}
